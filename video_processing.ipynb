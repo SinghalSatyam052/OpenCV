{
 "cells": [
  {
   "cell_type": "code",
   "execution_count": 1,
   "id": "6c325c6c",
   "metadata": {},
   "outputs": [],
   "source": [
    "import cv2"
   ]
  },
  {
   "cell_type": "code",
   "execution_count": 2,
   "id": "47c37da1",
   "metadata": {},
   "outputs": [
    {
     "ename": "KeyboardInterrupt",
     "evalue": "",
     "output_type": "error",
     "traceback": [
      "\u001b[1;31m---------------------------------------------------------------------------\u001b[0m",
      "\u001b[1;31mKeyboardInterrupt\u001b[0m                         Traceback (most recent call last)",
      "Cell \u001b[1;32mIn[2], line 10\u001b[0m\n\u001b[0;32m      8\u001b[0m     frame \u001b[38;5;241m=\u001b[39m cv2\u001b[38;5;241m.\u001b[39mresize(frame,(\u001b[38;5;241m600\u001b[39m,\u001b[38;5;241m600\u001b[39m))\n\u001b[0;32m      9\u001b[0m     cv2\u001b[38;5;241m.\u001b[39mimshow(\u001b[38;5;124m\"\u001b[39m\u001b[38;5;124mFRAME NAME\u001b[39m\u001b[38;5;124m\"\u001b[39m,frame)\n\u001b[1;32m---> 10\u001b[0m     \u001b[38;5;28;01mif\u001b[39;00m cv2\u001b[38;5;241m.\u001b[39mwaitKey(\u001b[38;5;241m0\u001b[39m) \u001b[38;5;241m&\u001b[39m \u001b[38;5;241m0xff\u001b[39m \u001b[38;5;241m==\u001b[39m \u001b[38;5;28mord\u001b[39m(\u001b[38;5;124m'\u001b[39m\u001b[38;5;124mp\u001b[39m\u001b[38;5;124m'\u001b[39m):\n\u001b[0;32m     11\u001b[0m         \u001b[38;5;66;03m# waitkey param passed are the frame per second of the video \u001b[39;00m\n\u001b[0;32m     12\u001b[0m         \u001b[38;5;66;03m# waitkey(0) will make the video as static image\u001b[39;00m\n\u001b[0;32m     13\u001b[0m         \u001b[38;5;66;03m# waitkey(30) -> video will be played at 30 fps\u001b[39;00m\n\u001b[0;32m     14\u001b[0m         \u001b[38;5;66;03m# ord('p') -> this will stop the video when 'p' is pressed\u001b[39;00m\n\u001b[0;32m     15\u001b[0m         \u001b[38;5;66;03m# ord means order\u001b[39;00m\n\u001b[0;32m     16\u001b[0m         \u001b[38;5;28;01mbreak\u001b[39;00m\n\u001b[0;32m     17\u001b[0m \u001b[38;5;28;01melse\u001b[39;00m:\n",
      "\u001b[1;31mKeyboardInterrupt\u001b[0m: "
     ]
    }
   ],
   "source": [
    "cap = cv2.VideoCapture(r\"C:\\Users\\satya\\Downloads\\sample-1.mkv\")\n",
    "# capture the video from a given address\n",
    "\n",
    "while cap.isOpened():\n",
    "    r,frame = cap.read()\n",
    "    #Return param : r is a bool value and frame is the frames that are loaded per second\n",
    "    if r == True:\n",
    "        frame = cv2.resize(frame,(600,600))\n",
    "        cv2.imshow(\"FRAME NAME\",frame)\n",
    "        if cv2.waitKey(0) & 0xff == ord('p'):\n",
    "            # waitkey param passed are the frame per second of the video \n",
    "            # waitkey(0) will make the video as static image\n",
    "            # waitkey(30) -> video will be played at 30 fps\n",
    "            # ord('p') -> this will stop the video when 'p' is pressed\n",
    "            # ord means order\n",
    "            break\n",
    "    else:\n",
    "        break\n",
    "    \n",
    "cap.release()\n",
    "#Closes video file or capturing device\n",
    "cv2.destroyAllWindows()"
   ]
  },
  {
   "cell_type": "code",
   "execution_count": 13,
   "id": "e4682268",
   "metadata": {},
   "outputs": [
    {
     "ename": "KeyboardInterrupt",
     "evalue": "",
     "output_type": "error",
     "traceback": [
      "\u001b[1;31m---------------------------------------------------------------------------\u001b[0m",
      "\u001b[1;31mKeyboardInterrupt\u001b[0m                         Traceback (most recent call last)",
      "Cell \u001b[1;32mIn[13], line 13\u001b[0m\n\u001b[0;32m     11\u001b[0m     frame \u001b[38;5;241m=\u001b[39m cv2\u001b[38;5;241m.\u001b[39mresize(frame,(\u001b[38;5;241m500\u001b[39m,\u001b[38;5;241m500\u001b[39m))\n\u001b[0;32m     12\u001b[0m     cv2\u001b[38;5;241m.\u001b[39mimshow(\u001b[38;5;124m\"\u001b[39m\u001b[38;5;124mNEW WINDOW\u001b[39m\u001b[38;5;124m\"\u001b[39m,frame)\n\u001b[1;32m---> 13\u001b[0m     \u001b[38;5;28;01mif\u001b[39;00m cv2\u001b[38;5;241m.\u001b[39mwaitKey(\u001b[38;5;241m25\u001b[39m) \u001b[38;5;129;01mand\u001b[39;00m \u001b[38;5;241m0xFF\u001b[39m \u001b[38;5;241m==\u001b[39m \u001b[38;5;28mord\u001b[39m(\u001b[38;5;124m'\u001b[39m\u001b[38;5;124mp\u001b[39m\u001b[38;5;124m'\u001b[39m):\n\u001b[0;32m     14\u001b[0m         \u001b[38;5;28;01mbreak\u001b[39;00m\n\u001b[0;32m     15\u001b[0m \u001b[38;5;28;01melse\u001b[39;00m: \n",
      "\u001b[1;31mKeyboardInterrupt\u001b[0m: "
     ]
    }
   ],
   "source": [
    "#capture the video using camera\n",
    "\n",
    "cap = cv2.VideoCapture(0)\n",
    "# 0 captures system camera\n",
    "#1,2,3... captures the external webcams which are considered to be positioned as 1,2,3...\n",
    "\n",
    "\n",
    "while True:\n",
    "    r,frame = cap.read()\n",
    "    if r == True:\n",
    "        frame = cv2.resize(frame,(500,500))\n",
    "        cv2.imshow(\"NEW WINDOW\",frame)\n",
    "        if cv2.waitKey(25) & 0xff == ord('p'):\n",
    "            break\n",
    "    else: \n",
    "        break\n",
    "\n",
    "cap.release()\n",
    "#Closes video file or capturing device\n",
    "cv2.destroyAllWindows()"
   ]
  },
  {
   "cell_type": "code",
   "execution_count": 3,
   "id": "fbbff820",
   "metadata": {},
   "outputs": [],
   "source": [
    "#fast forward and slow motion videos\n",
    "cap = cv2.VideoCapture(r\"C:\\Users\\satya\\Downloads\\sample-1.mkv\")\n",
    "\n",
    "while cap.isOpened():\n",
    "    rat, frame = cap.read()\n",
    "    frame = cv2.resize(frame,(500,500))\n",
    "    if rat == True:\n",
    "        cv2.imshow(\"New Window\", frame)\n",
    "        if cv2.waitKey(25) & 0xff == ord('p'):\n",
    "            break\n",
    "        # fps  ->  0 -> static order of frame -> frame will stop\n",
    "        #      -> 0-25 -> video starts fast forward\n",
    "        #      -> 25-.. -> video starts slowing down\n",
    "        #  more fps => slower motion video\n",
    "    else:\n",
    "        break\n",
    "\n",
    "cap.release()\n",
    "#Closes video file or capturing device\n",
    "cv2.destroyAllWindows()"
   ]
  },
  {
   "cell_type": "code",
   "execution_count": 9,
   "id": "32b9dcb1",
   "metadata": {},
   "outputs": [],
   "source": [
    "#Background Substraction \n",
    "cap = cv2.VideoCapture(r\"C:\\Users\\satya\\Downloads\\sample-1.mkv\")\n",
    "\n",
    "sub_m = cv2.createBackgroundSubtractorMOG2()\n",
    "\n",
    "while True:\n",
    "    r,frame = cap.read()\n",
    "    if r ==True:\n",
    "        frame = cv2.resize(frame,(500,500))\n",
    "        \n",
    "        sub_v = sub_m.apply(frame)\n",
    "        cv2.imshow(\"SUBSTRACTION VIDEO\", sub_v)\n",
    "        \n",
    "        cv2.imshow(\"Window\",frame)\n",
    "        if cv2.waitKey(25) & 0xff == ord('p'):\n",
    "            break;\n",
    "    else:\n",
    "        break\n",
    "cap.release()\n",
    "cv2.destroyAllWindows()"
   ]
  },
  {
   "cell_type": "code",
   "execution_count": 10,
   "id": "a0801d69",
   "metadata": {},
   "outputs": [],
   "source": [
    "#Extract image from video\n",
    "cap = cv2.VideoCapture(r\"C:\\Users\\satya\\Downloads\\sample-1.mkv\")\n",
    "c=0\n",
    "while True:\n",
    "    r,frame = cap.read()\n",
    "    if r == True:\n",
    "        frame = cv2.resize(frame,(500,500))\n",
    "        \n",
    "        filename = \"C://Users//satya//learn_ml//OpenCV//images//org_img_\"+str(c)+\".png\"\n",
    "        cv2.imwrite(filename,frame)\n",
    "        c=c+1 \n",
    "        \n",
    "        \n",
    "        cv2.imshow(\"New Window\",frame)\n",
    "        if cv2.waitKey(25) & 0xff == ord('p'):\n",
    "            break\n",
    "        \n",
    "    else:\n",
    "        break;\n",
    "cap.release()\n",
    "cv2.destroyAllWindows()"
   ]
  },
  {
   "cell_type": "code",
   "execution_count": null,
   "id": "72dfc48a",
   "metadata": {},
   "outputs": [],
   "source": []
  }
 ],
 "metadata": {
  "kernelspec": {
   "display_name": "Python 3 (ipykernel)",
   "language": "python",
   "name": "python3"
  },
  "language_info": {
   "codemirror_mode": {
    "name": "ipython",
    "version": 3
   },
   "file_extension": ".py",
   "mimetype": "text/x-python",
   "name": "python",
   "nbconvert_exporter": "python",
   "pygments_lexer": "ipython3",
   "version": "3.11.7"
  }
 },
 "nbformat": 4,
 "nbformat_minor": 5
}

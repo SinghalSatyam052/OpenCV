{
 "cells": [
  {
   "cell_type": "code",
   "execution_count": 1,
   "id": "696bbb6f",
   "metadata": {},
   "outputs": [],
   "source": [
    "import cv2\n",
    "import numpy as np\n",
    "import os"
   ]
  },
  {
   "cell_type": "code",
   "execution_count": 2,
   "id": "adbb0467",
   "metadata": {},
   "outputs": [
    {
     "name": "stdout",
     "output_type": "stream",
     "text": [
      "[[[246 218 201]\n",
      "  [244 217 203]\n",
      "  [244 215 208]\n",
      "  ...\n",
      "  [232 214 203]\n",
      "  [231 213 202]\n",
      "  [230 212 201]]\n",
      "\n",
      " [[247 219 202]\n",
      "  [245 218 204]\n",
      "  [245 216 209]\n",
      "  ...\n",
      "  [234 216 205]\n",
      "  [233 215 204]\n",
      "  [232 214 203]]\n",
      "\n",
      " [[248 220 203]\n",
      "  [246 219 205]\n",
      "  [245 216 209]\n",
      "  ...\n",
      "  [231 213 202]\n",
      "  [230 212 201]\n",
      "  [230 212 201]]\n",
      "\n",
      " ...\n",
      "\n",
      " [[221 225 166]\n",
      "  [232 228 179]\n",
      "  [253 232 204]\n",
      "  ...\n",
      "  [218 199 192]\n",
      "  [226 207 200]\n",
      "  [235 216 209]]\n",
      "\n",
      " [[180 199 136]\n",
      "  [214 224 177]\n",
      "  [233 226 207]\n",
      "  ...\n",
      "  [219 200 193]\n",
      "  [227 208 201]\n",
      "  [236 217 210]]\n",
      "\n",
      " [[170 197 133]\n",
      "  [214 233 184]\n",
      "  [229 228 214]\n",
      "  ...\n",
      "  [208 189 182]\n",
      "  [216 197 190]\n",
      "  [225 206 199]]]\n",
      "Image loaded successfully.\n"
     ]
    }
   ],
   "source": [
    "img = cv2.imread(\"images/hehe.jpg\")  #read image\n",
    "print(img)   # display the image's pixel values as a multi-dimensional NumPy array\n",
    "\n",
    "#NOTE : OPENCV HAS IMAGES STORED IN BGR FORMAT [GENERALLY IMAGES ARE IN RGB]\n",
    "\n",
    "#imread contains a second parameter flag which can be set to 0 to diplay image as black-white [BY DEFAULT flag is set to 1]\n",
    "#this black and white is known as grayscale image\n",
    "\n",
    "bw_img = cv2.imread(\"images/hehe.jpg\",0)\n",
    "cv2.imshow(\"BlackWhite\",bw_img)\n",
    "\n",
    "cv2.imshow(\"New\",img)  #show image\n",
    "if img is None:\n",
    "    print(\"Failed to load image.\")\n",
    "else:\n",
    "    print(\"Image loaded successfully.\")\n",
    "cv2.waitKey(0) #image frame wait time in ms  when set to 0 press any key on keyboard\n",
    "cv2.destroyWindow(\"New\") #destroy the specified window\n",
    "cv2.destroyAllWindows()  # destroy all windows\n"
   ]
  },
  {
   "cell_type": "code",
   "execution_count": null,
   "id": "4049e711",
   "metadata": {},
   "outputs": [],
   "source": [
    "img.shape # three element tuple where first two are dimension Height x Width and third is no of color channel"
   ]
  },
  {
   "cell_type": "code",
   "execution_count": 3,
   "id": "bcf213e8",
   "metadata": {},
   "outputs": [],
   "source": [
    "resized_img = cv2.resize(img,(500,500))\n",
    "cv2.imshow(\"Resize\",resized_img)\n",
    "cv2.waitKey(0) #image frame wait time in ms  when set to 0 press any key on keyboard\n",
    "cv2.destroyWindow(\"Resize\")"
   ]
  },
  {
   "cell_type": "code",
   "execution_count": null,
   "id": "a1401cdf",
   "metadata": {},
   "outputs": [],
   "source": [
    "h = np.hstack((resized_img,resized_img)) # 2 numpy array ko merge krke single array bana deta h\n",
    "v = np.vstack((resized_img,resized_img)) #hstack = horizontal, vstack =  vertical\n",
    "cv2.imshow(\"Horizontal\",h)\n",
    "cv2.imshow(\"Vertical\",v)\n",
    "cv2.waitKey(0) #image frame wait time in ms  when set to 0 press any key on keyboard\n",
    "cv2.destroyAllWindows()"
   ]
  },
  {
   "cell_type": "code",
   "execution_count": null,
   "id": "2c0432a8",
   "metadata": {},
   "outputs": [],
   "source": [
    "# now to display image as matix format like in grid view\n",
    "h = np.hstack((resized_img,resized_img)) # 2 numpy array ko merge krke single array bana deta h\n",
    "v = np.vstack((h,h)) #horizontally jo merged aai unko vertically bhi merge kr diya\n",
    "cv2.imshow(\"Grid\",v)\n",
    "cv2.waitKey(0) #image frame wait time in ms  when set to 0 press any key on keyboard\n",
    "cv2.destroyAllWindows()"
   ]
  },
  {
   "cell_type": "code",
   "execution_count": null,
   "id": "f3f7622e",
   "metadata": {},
   "outputs": [],
   "source": [
    "#sideshow of multiple images in a folder\n",
    "list_name = os.listdir(\"C:\\\\Users\\\\satya\\\\OneDrive\\\\Desktop\\\\ww_img\")\n",
    "for name in list_name:\n",
    "    img_path = \"C:\\\\Users\\\\satya\\\\OneDrive\\\\Desktop\\\\ww_img\\\\\" + name\n",
    "    img = cv2.imread(img_path)  #read image\n",
    "    img = cv2.resize(img,(500,600))\n",
    "    cv2.imshow(\"New Window\",img)\n",
    "    cv2.waitKey(1000)\n",
    "cv2.destroyAllWindows()"
   ]
  },
  {
   "cell_type": "code",
   "execution_count": null,
   "id": "6b0b9a65",
   "metadata": {},
   "outputs": [],
   "source": [
    "#Text over Image \n",
    "\n",
    "img_get = cv2.imread(r\"C:\\Users\\satya\\OneDrive\\Desktop\\hehe.jpg\")\n",
    "img_get = cv2.resize(img_get,(500,600))\n",
    "\n",
    "txt = cv2.putText(img_get, \"Test Text\", (50,150), cv2.FONT_HERSHEY_DUPLEX, 3, (255,0,0), 5, cv2.LINE_8, False)\n",
    "\n",
    "cv2.imshow(\"Window\",txt)\n",
    "cv2.waitKey(0)\n",
    "cv2.destroyAllWindows()"
   ]
  },
  {
   "cell_type": "code",
   "execution_count": null,
   "id": "f0528b0f",
   "metadata": {},
   "outputs": [],
   "source": [
    "#Draw line over a image\n",
    "\n",
    "new_img = cv2.line(img = resized_img, pt1 = (190,60), pt2 = (320,60), color = (0,255,0),thickness = 4,lineType = 4)\n",
    "\n",
    "\n",
    "cv2.imshow(\"Window\",new_img)\n",
    "cv2.waitKey(0)\n",
    "cv2.destroyAllWindows()"
   ]
  },
  {
   "cell_type": "code",
   "execution_count": null,
   "id": "36088100",
   "metadata": {},
   "outputs": [],
   "source": [
    "#Draw  Rectangle over a image\n",
    "\n",
    "\n",
    "new_img2 = cv2.rectangle(img = resized_img, pt1 = (190,0), pt2 = (320,150), color = (0,255,0),thickness = 4,lineType = 4)\n",
    "\n",
    "\n",
    "cv2.imshow(\"Window\",new_img2)\n",
    "cv2.waitKey(0)\n",
    "cv2.destroyAllWindows()"
   ]
  },
  {
   "cell_type": "code",
   "execution_count": null,
   "id": "85c9502a",
   "metadata": {},
   "outputs": [],
   "source": [
    "#Draw  Circle over a image\n",
    "\n",
    "\n",
    "new_img3 = cv2.circle(img = resized_img, center = (255,75), radius = 100, color = (0,255,0),thickness = 4,lineType = 16)\n",
    "\n",
    "#thickness = -1 will fill the entire circle\n",
    "\n",
    "cv2.imshow(\"Window\",new_img2)\n",
    "cv2.waitKey(0)\n",
    "cv2.destroyAllWindows()"
   ]
  },
  {
   "cell_type": "markdown",
   "id": "1d56d73a",
   "metadata": {},
   "source": [
    "# note that the drawing functions like line, circle,rectangle etc overwrites the original image passed so storing it in a new variable doesn't really matters, if you want to save the original image from modification then first create the copy of the image and then work on it"
   ]
  }
 ],
 "metadata": {
  "kernelspec": {
   "display_name": "Python 3 (ipykernel)",
   "language": "python",
   "name": "python3"
  },
  "language_info": {
   "codemirror_mode": {
    "name": "ipython",
    "version": 3
   },
   "file_extension": ".py",
   "mimetype": "text/x-python",
   "name": "python",
   "nbconvert_exporter": "python",
   "pygments_lexer": "ipython3",
   "version": "3.11.7"
  }
 },
 "nbformat": 4,
 "nbformat_minor": 5
}

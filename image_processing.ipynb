{
 "cells": [
  {
   "cell_type": "code",
   "execution_count": 2,
   "id": "696bbb6f",
   "metadata": {},
   "outputs": [],
   "source": [
    "import cv2\n",
    "import numpy as np\n",
    "import os"
   ]
  },
  {
   "cell_type": "code",
   "execution_count": 3,
   "id": "adbb0467",
   "metadata": {},
   "outputs": [
    {
     "name": "stdout",
     "output_type": "stream",
     "text": [
      "[[[246 218 201]\n",
      "  [244 217 203]\n",
      "  [244 215 208]\n",
      "  ...\n",
      "  [232 214 203]\n",
      "  [231 213 202]\n",
      "  [230 212 201]]\n",
      "\n",
      " [[247 219 202]\n",
      "  [245 218 204]\n",
      "  [245 216 209]\n",
      "  ...\n",
      "  [234 216 205]\n",
      "  [233 215 204]\n",
      "  [232 214 203]]\n",
      "\n",
      " [[248 220 203]\n",
      "  [246 219 205]\n",
      "  [245 216 209]\n",
      "  ...\n",
      "  [231 213 202]\n",
      "  [230 212 201]\n",
      "  [230 212 201]]\n",
      "\n",
      " ...\n",
      "\n",
      " [[221 225 166]\n",
      "  [232 228 179]\n",
      "  [253 232 204]\n",
      "  ...\n",
      "  [218 199 192]\n",
      "  [226 207 200]\n",
      "  [235 216 209]]\n",
      "\n",
      " [[180 199 136]\n",
      "  [214 224 177]\n",
      "  [233 226 207]\n",
      "  ...\n",
      "  [219 200 193]\n",
      "  [227 208 201]\n",
      "  [236 217 210]]\n",
      "\n",
      " [[170 197 133]\n",
      "  [214 233 184]\n",
      "  [229 228 214]\n",
      "  ...\n",
      "  [208 189 182]\n",
      "  [216 197 190]\n",
      "  [225 206 199]]]\n",
      "Image loaded successfully.\n"
     ]
    },
    {
     "ename": "error",
     "evalue": "OpenCV(4.10.0) D:\\a\\opencv-python\\opencv-python\\opencv\\modules\\highgui\\src\\window_w32.cpp:1261: error: (-27:Null pointer) NULL window: 'New' in function 'cvDestroyWindow'\n",
     "output_type": "error",
     "traceback": [
      "\u001b[1;31m---------------------------------------------------------------------------\u001b[0m",
      "\u001b[1;31merror\u001b[0m                                     Traceback (most recent call last)",
      "Cell \u001b[1;32mIn[3], line 18\u001b[0m\n\u001b[0;32m     16\u001b[0m     \u001b[38;5;28mprint\u001b[39m(\u001b[38;5;124m\"\u001b[39m\u001b[38;5;124mImage loaded successfully.\u001b[39m\u001b[38;5;124m\"\u001b[39m)\n\u001b[0;32m     17\u001b[0m cv2\u001b[38;5;241m.\u001b[39mwaitKey(\u001b[38;5;241m0\u001b[39m) \u001b[38;5;66;03m#image frame wait time in ms  when set to 0 press any key on keyboard\u001b[39;00m\n\u001b[1;32m---> 18\u001b[0m cv2\u001b[38;5;241m.\u001b[39mdestroyWindow(\u001b[38;5;124m\"\u001b[39m\u001b[38;5;124mNew\u001b[39m\u001b[38;5;124m\"\u001b[39m) \u001b[38;5;66;03m#destroy the specified window\u001b[39;00m\n\u001b[0;32m     19\u001b[0m cv2\u001b[38;5;241m.\u001b[39mdestroyAllWindows()\n",
      "\u001b[1;31merror\u001b[0m: OpenCV(4.10.0) D:\\a\\opencv-python\\opencv-python\\opencv\\modules\\highgui\\src\\window_w32.cpp:1261: error: (-27:Null pointer) NULL window: 'New' in function 'cvDestroyWindow'\n"
     ]
    }
   ],
   "source": [
    "img = cv2.imread(\"images/hehe.jpg\")  #read image\n",
    "print(img)   # display the image's pixel values as a multi-dimensional NumPy array\n",
    "\n",
    "#NOTE : OPENCV HAS IMAGES STORED IN BGR FORMAT [GENERALLY IMAGES ARE IN RGB]\n",
    "\n",
    "#imread contains a second parameter flag which can be set to 0 to diplay image as black-white [BY DEFAULT flag is set to 1]\n",
    "#this black and white is known as grayscale image\n",
    "\n",
    "bw_img = cv2.imread(\"images/hehe.jpg\",0)\n",
    "cv2.imshow(\"BlackWhite\",bw_img)\n",
    "\n",
    "cv2.imshow(\"New\",img)  #show image\n",
    "if img is None:\n",
    "    print(\"Failed to load image.\")\n",
    "else:\n",
    "    print(\"Image loaded successfully.\")\n",
    "cv2.waitKey(0) #image frame wait time in ms  when set to 0 press any key on keyboard\n",
    "cv2.destroyWindow(\"New\") #destroy the specified window\n",
    "cv2.destroyAllWindows()  # destroy all windows\n"
   ]
  },
  {
   "cell_type": "code",
   "execution_count": 27,
   "id": "4049e711",
   "metadata": {},
   "outputs": [
    {
     "data": {
      "text/plain": [
       "(460, 460, 3)"
      ]
     },
     "execution_count": 27,
     "metadata": {},
     "output_type": "execute_result"
    }
   ],
   "source": [
    "img.shape # three element tuple where first two are dimension Height x Width and third is no of color channel"
   ]
  },
  {
   "cell_type": "code",
   "execution_count": null,
   "id": "cb8962e1",
   "metadata": {},
   "outputs": [],
   "source": []
  },
  {
   "cell_type": "code",
   "execution_count": null,
   "id": "5a9beda2",
   "metadata": {},
   "outputs": [],
   "source": []
  },
  {
   "cell_type": "code",
   "execution_count": 29,
   "id": "bcf213e8",
   "metadata": {},
   "outputs": [],
   "source": [
    "#Resizing/Scaling the Image \n",
    "resized_img = cv2.resize(img,(500,500))\n",
    "cv2.imshow(\"Resize\",resized_img)\n",
    "cv2.waitKey(0) #image frame wait time in ms  when set to 0 press any key on keyboard\n",
    "cv2.destroyWindow(\"Resize\")"
   ]
  },
  {
   "cell_type": "code",
   "execution_count": 31,
   "id": "71cedec0",
   "metadata": {},
   "outputs": [],
   "source": [
    "#Rotate the image\n",
    "\n",
    "m = cv2.getRotationMatrix2D((250,250),90,1)\n",
    "rotated_img = cv2.warpAffine(resized_img,m,(500,500))\n",
    "\n",
    "cv2.imshow(\"New Window\",rotated_img)\n",
    "cv2.waitKey(0)\n",
    "cv2.destroyAllWindows()"
   ]
  },
  {
   "cell_type": "code",
   "execution_count": 33,
   "id": "a1401cdf",
   "metadata": {},
   "outputs": [],
   "source": [
    "h = np.hstack((resized_img,resized_img)) # 2 numpy array ko merge krke single array bana deta h\n",
    "v = np.vstack((resized_img,resized_img)) #hstack = horizontal, vstack =  vertical\n",
    "cv2.imshow(\"Horizontal\",h)\n",
    "cv2.imshow(\"Vertical\",v)\n",
    "cv2.waitKey(0) #image frame wait time in ms  when set to 0 press any key on keyboard\n",
    "cv2.destroyAllWindows()"
   ]
  },
  {
   "cell_type": "code",
   "execution_count": 35,
   "id": "2c0432a8",
   "metadata": {},
   "outputs": [],
   "source": [
    "# now to display image as matix format like in grid view\n",
    "h = np.hstack((resized_img,resized_img)) # 2 numpy array ko merge krke single array bana deta h\n",
    "v = np.vstack((h,h)) #horizontally jo merged aai unko vertically bhi merge kr diya\n",
    "cv2.imshow(\"Grid\",v)\n",
    "cv2.waitKey(0) #image frame wait time in ms  when set to 0 press any key on keyboard\n",
    "cv2.destroyAllWindows()"
   ]
  },
  {
   "cell_type": "code",
   "execution_count": 37,
   "id": "f3f7622e",
   "metadata": {},
   "outputs": [
    {
     "ename": "error",
     "evalue": "OpenCV(4.10.0) D:\\a\\opencv-python\\opencv-python\\opencv\\modules\\imgproc\\src\\resize.cpp:4152: error: (-215:Assertion failed) !ssize.empty() in function 'cv::resize'\n",
     "output_type": "error",
     "traceback": [
      "\u001b[1;31m---------------------------------------------------------------------------\u001b[0m",
      "\u001b[1;31merror\u001b[0m                                     Traceback (most recent call last)",
      "Cell \u001b[1;32mIn[37], line 6\u001b[0m\n\u001b[0;32m      4\u001b[0m img_path \u001b[38;5;241m=\u001b[39m \u001b[38;5;124m\"\u001b[39m\u001b[38;5;124mC:\u001b[39m\u001b[38;5;130;01m\\\\\u001b[39;00m\u001b[38;5;124mUsers\u001b[39m\u001b[38;5;130;01m\\\\\u001b[39;00m\u001b[38;5;124msatya\u001b[39m\u001b[38;5;130;01m\\\\\u001b[39;00m\u001b[38;5;124mOneDrive\u001b[39m\u001b[38;5;130;01m\\\\\u001b[39;00m\u001b[38;5;124mDesktop\u001b[39m\u001b[38;5;130;01m\\\\\u001b[39;00m\u001b[38;5;124mww_img\u001b[39m\u001b[38;5;130;01m\\\\\u001b[39;00m\u001b[38;5;124m\"\u001b[39m \u001b[38;5;241m+\u001b[39m name\n\u001b[0;32m      5\u001b[0m img \u001b[38;5;241m=\u001b[39m cv2\u001b[38;5;241m.\u001b[39mimread(img_path)  \u001b[38;5;66;03m#read image\u001b[39;00m\n\u001b[1;32m----> 6\u001b[0m img \u001b[38;5;241m=\u001b[39m cv2\u001b[38;5;241m.\u001b[39mresize(img,(\u001b[38;5;241m500\u001b[39m,\u001b[38;5;241m600\u001b[39m))\n\u001b[0;32m      7\u001b[0m cv2\u001b[38;5;241m.\u001b[39mimshow(\u001b[38;5;124m\"\u001b[39m\u001b[38;5;124mNew Window\u001b[39m\u001b[38;5;124m\"\u001b[39m,img)\n\u001b[0;32m      8\u001b[0m cv2\u001b[38;5;241m.\u001b[39mwaitKey(\u001b[38;5;241m1000\u001b[39m)\n",
      "\u001b[1;31merror\u001b[0m: OpenCV(4.10.0) D:\\a\\opencv-python\\opencv-python\\opencv\\modules\\imgproc\\src\\resize.cpp:4152: error: (-215:Assertion failed) !ssize.empty() in function 'cv::resize'\n"
     ]
    }
   ],
   "source": [
    "#sideshow of multiple images in a folder\n",
    "list_name = os.listdir(\"C:\\\\Users\\\\satya\\\\OneDrive\\\\Desktop\\\\ww_img\")\n",
    "for name in list_name:\n",
    "    img_path = \"C:\\\\Users\\\\satya\\\\OneDrive\\\\Desktop\\\\ww_img\\\\\" + name\n",
    "    img = cv2.imread(img_path)  #read image\n",
    "    img = cv2.resize(img,(500,600))\n",
    "    cv2.imshow(\"New Window\",img)\n",
    "    cv2.waitKey(1000)\n",
    "cv2.destroyAllWindows()"
   ]
  },
  {
   "cell_type": "code",
   "execution_count": null,
   "id": "6b0b9a65",
   "metadata": {},
   "outputs": [],
   "source": [
    "#Text over Image \n",
    "\n",
    "img_get = cv2.imread(r\"C:\\Users\\satya\\OneDrive\\Desktop\\hehe.jpg\")\n",
    "img_get = cv2.resize(img_get,(500,600))\n",
    "\n",
    "txt = cv2.putText(img_get, \"Test Text\", (50,150), cv2.FONT_HERSHEY_DUPLEX, 3, (255,0,0), 5, cv2.LINE_8, False)\n",
    "\n",
    "cv2.imshow(\"Window\",txt)\n",
    "cv2.waitKey(0)\n",
    "cv2.destroyAllWindows()"
   ]
  },
  {
   "cell_type": "code",
   "execution_count": null,
   "id": "7f2cc616",
   "metadata": {},
   "outputs": [],
   "source": [
    "#Draw line over a image\n",
    "\n",
    "new_img = cv2.line(img = resized_img, pt1 = (190,60), pt2 = (320,60), color = (0,255,0),thickness = 4,lineType = 4)\n",
    "\n",
    "\n",
    "cv2.imshow(\"Window\",new_img)\n",
    "cv2.waitKey(0)\n",
    "cv2.destroyAllWindows()"
   ]
  },
  {
   "cell_type": "code",
   "execution_count": null,
   "id": "fc3b7122",
   "metadata": {},
   "outputs": [],
   "source": [
    "#Draw  Rectangle over a image\n",
    "\n",
    "\n",
    "new_img2 = cv2.rectangle(img = resized_img, pt1 = (190,0), pt2 = (320,150), color = (0,255,0),thickness = 4,lineType = 4)\n",
    "\n",
    "\n",
    "cv2.imshow(\"Window\",new_img2)\n",
    "cv2.waitKey(0)\n",
    "cv2.destroyAllWindows()"
   ]
  },
  {
   "cell_type": "code",
   "execution_count": null,
   "id": "67d234d5",
   "metadata": {},
   "outputs": [],
   "source": [
    "#Draw  Circle over a image\n",
    "\n",
    "\n",
    "new_img3 = cv2.circle(img = resized_img, center = (255,75), radius = 100, color = (0,255,0),thickness = 4,lineType = 16)\n",
    "\n",
    "#thickness = -1 will fill the entire circle\n",
    "\n",
    "cv2.imshow(\"Window\",new_img2)\n",
    "cv2.waitKey(0)\n",
    "cv2.destroyAllWindows()"
   ]
  },
  {
   "cell_type": "code",
   "execution_count": null,
   "id": "5e0e980a",
   "metadata": {},
   "outputs": [],
   "source": [
    "#Draw  Ellipse over a image\n",
    "\n",
    "new_img4 = cv2.ellipse(img = resized_img, center = (255,75), axes = (50,80), angle = 30,startAngle = 0, endAngle = 360, color = (0,255,0),thickness = 4,lineType = 16)\n",
    "\n",
    "#thickness = -1 will fill the entire ellipse\n",
    "\n",
    "cv2.imshow(\"Window\",new_img4)\n",
    "cv2.waitKey(0)\n",
    "cv2.destroyAllWindows()"
   ]
  },
  {
   "cell_type": "code",
   "execution_count": null,
   "id": "aa33ec19",
   "metadata": {},
   "outputs": [],
   "source": [
    "#Draw  Polygon over a image\n",
    "\n",
    "new_img4 = cv2.polylines(img = resized_img, \n",
    "                        pts = [np.array([[250,0],[200,30],[200,100],[260,150],[320,100],[300,40]])],\n",
    "                        isClosed = True, color = (0,255,0),thickness = 4,lineType = 16)\n",
    "\n",
    "#thickness = -1 will fill the entire ellipse\n",
    "\n",
    "cv2.imshow(\"Window\",new_img4)\n",
    "cv2.waitKey(0)\n",
    "cv2.destroyAllWindows()"
   ]
  },
  {
   "cell_type": "markdown",
   "id": "59e2cede",
   "metadata": {},
   "source": [
    "# note that the drawing functions like text,line, circle,rectangle etc overwrites the original image passed so storing it in a new variable doesn't really matters, if you want to save the original image from modification then first create the copy of the image and then work on it"
   ]
  },
  {
   "cell_type": "code",
   "execution_count": null,
   "id": "2003c7f8",
   "metadata": {},
   "outputs": [],
   "source": [
    "#Edge Detection\n",
    "\n",
    "img = cv2.imread(\"images/hehe.jpg\")\n",
    "img = cv2.resize(img,(500,500))\n",
    "print(img.shape)\n",
    "\n",
    "new = cv2.Canny(img,150,150)\n",
    "\n",
    "#more the value of threshold in the canny function lesser the detailing\n",
    "print(new.shape)\n",
    "\n",
    "cv2.imshow(\"Image\",img)\n",
    "cv2.imshow(\"New Image\",new)\n",
    "\n",
    "\n",
    "cv2.waitKey(0)\n",
    "cv2.destroyAllWindows()"
   ]
  },
  {
   "cell_type": "code",
   "execution_count": null,
   "id": "6d05f996",
   "metadata": {},
   "outputs": [],
   "source": [
    "#Blurring Image \n",
    "#Image blurring is done in 3 ways-Gaussian Blur,Median Blur,Bilateral Blur"
   ]
  },
  {
   "cell_type": "code",
   "execution_count": null,
   "id": "7f525685",
   "metadata": {},
   "outputs": [],
   "source": [
    "\n",
    "img = cv2.imread(\"images/hehe.jpg\")\n",
    "img = cv2.resize(img,(300,300))\n",
    "\n",
    "g = cv2.GaussianBlur(img,(7,7),0)\n",
    "m = cv2.medianBlur(img,3)\n",
    "b = cv2.bilateralFilter(img,9,75,75)\n",
    "\n",
    "h = np.hstack((img,g,m,b))\n",
    "cv2.imshow(\"Image\",h)\n",
    "\n",
    "\n",
    "cv2.waitKey(0)\n",
    "cv2.destroyAllWindows()"
   ]
  },
  {
   "cell_type": "code",
   "execution_count": null,
   "id": "36fc306e",
   "metadata": {},
   "outputs": [],
   "source": []
  },
  {
   "cell_type": "code",
   "execution_count": null,
   "id": "d45d6f11",
   "metadata": {},
   "outputs": [],
   "source": [
    "#Border on an image\n",
    "#Many types of border\n",
    "\n",
    "img = cv2.imread(\"images/hehe.jpg\")\n",
    "img = cv2.resize(img,(300,300))\n",
    "\n",
    "img1 = cv2.copyMakeBorder(img,20,20,20,20,\n",
    "                          borderType = cv2.BORDER_CONSTANT,\n",
    "                          dst = None, value = 2\n",
    "                         )\n",
    "img1 = cv2.resize(img1,(300,300))\n",
    "\n",
    "img2 = cv2.copyMakeBorder(img,20,20,20,20,\n",
    "                          borderType = cv2.BORDER_REFLECT,\n",
    "                          dst = None, value = 2\n",
    "                         )\n",
    "img2 = cv2.resize(img2,(300,300))\n",
    "\n",
    "img3 = cv2.copyMakeBorder(img,20,20,20,20,\n",
    "                          borderType = cv2.BORDER_REPLICATE,\n",
    "                          dst = None, value = 2\n",
    "                         )\n",
    "img3 = cv2.resize(img1,(300,300))\n",
    "\n",
    "h = np.hstack((img,img1,img2,img3))\n",
    "cv2.imshow(\"Image\",h)\n",
    "cv2.waitKey(0)\n",
    "cv2.destroyAllWindows()\n",
    "\n"
   ]
  },
  {
   "cell_type": "code",
   "execution_count": null,
   "id": "f770dbc7",
   "metadata": {},
   "outputs": [],
   "source": [
    "#Saving an image using imwrite\n",
    "\n",
    "cv2.imwrite(\"images/save1.png\",h)"
   ]
  },
  {
   "cell_type": "code",
   "execution_count": null,
   "id": "bbb93ffa",
   "metadata": {},
   "outputs": [],
   "source": [
    "# color cvt\n",
    "\n",
    "img = cv2.imread(\"images/hehe.jpg\")  #read image\n",
    "img = cv2.resize(img,(500,500))\n",
    "\n",
    "new = cv2.cvtColor(img,cv2.COLOR_BGR2GRAY)\n",
    "\n",
    "cv2.imshow(\"Window\",img)\n",
    "cv2.imshow(\"New Window\",new)\n",
    "cv2.waitKey(0)\n",
    "cv2.destroyAllWindows()"
   ]
  },
  {
   "cell_type": "code",
   "execution_count": null,
   "id": "f65533ca",
   "metadata": {},
   "outputs": [],
   "source": [
    "#crop image\n",
    "\n",
    "\n",
    "img = cv2.imread(\"images/hehe.jpg\")  #read image\n",
    "img = cv2.resize(img,(500,500))\n",
    "\n",
    "print(img.shape) #shape\n",
    "print(img) #pixels of image\n",
    "\n",
    "#img[y1:y2 , x1:x2]\n",
    "\n",
    "crop = img[200:400  ,:]\n",
    "\n",
    "cv2.imshow(\"Crop Image\",crop)\n",
    "\n",
    "cv2.imshow(\"Window\",img)\n",
    "cv2.waitKey(0)\n",
    "cv2.destroyAllWindows()"
   ]
  },
  {
   "cell_type": "code",
   "execution_count": null,
   "id": "4068daed",
   "metadata": {},
   "outputs": [],
   "source": [
    "#create blank image\n",
    "\n",
    "img = cv2.imread(\"images/hehe.jpg\")  #read image\n",
    "img = cv2.resize(img,(500,500))\n",
    "print(img.shape) #shape\n",
    "print(img) #pixels of image\n",
    "\n",
    "#blank image could either be full black or full white\n",
    "\n",
    "new = np.ones((500,500,3),np.uint8)*255  #white image\n",
    "new2 = np.zeros((500,500,3),np.uint8)*255  #black image\n",
    "\n",
    "cv2.imshow(\"New Image\",new)\n",
    "cv2.imshow(\"New Image\",new2)\n",
    "\n",
    "cv2.imshow(\"Window\",img)\n",
    "cv2.waitKey(0)\n",
    "cv2.destroyAllWindows()"
   ]
  },
  {
   "cell_type": "code",
   "execution_count": null,
   "id": "06acc9b0",
   "metadata": {},
   "outputs": [],
   "source": [
    "#color  picker  &  trackbar [getTrackbarPos & createTrackbar]\n",
    "\n",
    "def func(x):\n",
    "    pass\n",
    "\n",
    "img = np.zeros((500,500,3),np.uint8)*255  #black image\n",
    "cv2.namedWindow(\"color\")\n",
    "\n",
    "cv2.createTrackbar(\"R\",\"color\",0,255,func)\n",
    "cv2.createTrackbar(\"G\",\"color\",0,255,func)\n",
    "cv2.createTrackbar(\"B\",\"color\",0,255,func)\n",
    "\n",
    "while True:\n",
    "    cv2.imshow(\"color\",img)\n",
    "    if cv2.waitKey(1) & 0xff == ord('p'):\n",
    "        break\n",
    "    r = cv2.getTrackbarPos(\"R\",\"color\")\n",
    "    g = cv2.getTrackbarPos(\"G\",\"color\")\n",
    "    b = cv2.getTrackbarPos(\"B\",\"color\")\n",
    "    \n",
    "    img[:] = [b,g,r]\n",
    "\n",
    "cv2.destroyAllWindows()  "
   ]
  },
  {
   "cell_type": "code",
   "execution_count": null,
   "id": "7ebd678e",
   "metadata": {},
   "outputs": [],
   "source": [
    "#Region of Interest\n"
   ]
  }
 ],
 "metadata": {
  "kernelspec": {
   "display_name": "Python 3 (ipykernel)",
   "language": "python",
   "name": "python3"
  },
  "language_info": {
   "codemirror_mode": {
    "name": "ipython",
    "version": 3
   },
   "file_extension": ".py",
   "mimetype": "text/x-python",
   "name": "python",
   "nbconvert_exporter": "python",
   "pygments_lexer": "ipython3",
   "version": "3.11.7"
  }
 },
 "nbformat": 4,
 "nbformat_minor": 5
}
